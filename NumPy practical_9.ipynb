{
 "cells": [
  {
   "cell_type": "markdown",
   "id": "44633ff5",
   "metadata": {},
   "source": [
    "#  string operations,comparison and information"
   ]
  },
  {
   "cell_type": "code",
   "execution_count": 1,
   "id": "1f5e9098",
   "metadata": {},
   "outputs": [],
   "source": [
    "import numpy as np"
   ]
  },
  {
   "cell_type": "code",
   "execution_count": 2,
   "id": "903767f9",
   "metadata": {},
   "outputs": [],
   "source": [
    "ch_name=\"indian ai production\"\n",
    "star1=\"learning python numpy\""
   ]
  },
  {
   "cell_type": "code",
   "execution_count": 4,
   "id": "b1ba731c",
   "metadata": {},
   "outputs": [
    {
     "data": {
      "text/plain": [
       "array('indian ai productionlearning python numpy', dtype='<U41')"
      ]
     },
     "execution_count": 4,
     "metadata": {},
     "output_type": "execute_result"
    }
   ],
   "source": [
    "np.char.add(ch_name,star1)"
   ]
  },
  {
   "cell_type": "code",
   "execution_count": 6,
   "id": "87b813df",
   "metadata": {},
   "outputs": [
    {
     "data": {
      "text/plain": [
       "array('learning python numpy', dtype='<U21')"
      ]
     },
     "execution_count": 6,
     "metadata": {},
     "output_type": "execute_result"
    }
   ],
   "source": [
    "np.char.lower(star1)"
   ]
  },
  {
   "cell_type": "code",
   "execution_count": 7,
   "id": "08e6ed94",
   "metadata": {},
   "outputs": [
    {
     "data": {
      "text/plain": [
       "array('LEARNING PYTHON NUMPY', dtype='<U21')"
      ]
     },
     "execution_count": 7,
     "metadata": {},
     "output_type": "execute_result"
    }
   ],
   "source": [
    "np.char.upper(star1)"
   ]
  },
  {
   "cell_type": "code",
   "execution_count": 8,
   "id": "e58bee2f",
   "metadata": {},
   "outputs": [
    {
     "data": {
      "text/plain": [
       "array('                   learning python numpy                    ',\n",
       "      dtype='<U60')"
      ]
     },
     "execution_count": 8,
     "metadata": {},
     "output_type": "execute_result"
    }
   ],
   "source": [
    "np.char.center(star1,60)"
   ]
  },
  {
   "cell_type": "code",
   "execution_count": 9,
   "id": "85f4a527",
   "metadata": {},
   "outputs": [
    {
     "data": {
      "text/plain": [
       "array('###################learning python numpy####################',\n",
       "      dtype='<U60')"
      ]
     },
     "execution_count": 9,
     "metadata": {},
     "output_type": "execute_result"
    }
   ],
   "source": [
    "np.char.center(star1,60,fillchar=\"#\")"
   ]
  },
  {
   "cell_type": "code",
   "execution_count": 11,
   "id": "b7d2f3a2",
   "metadata": {},
   "outputs": [
    {
     "data": {
      "text/plain": [
       "array(['d:m:y', 'd/m/y'], dtype='<U5')"
      ]
     },
     "execution_count": 11,
     "metadata": {},
     "output_type": "execute_result"
    }
   ],
   "source": [
    "str_1=\"dmy\"\n",
    "str_2=\"dmy\"\n",
    "np.char.join([\":\",\"/\"],[str_1,str_2])"
   ]
  },
  {
   "cell_type": "code",
   "execution_count": null,
   "id": "39cf2c86",
   "metadata": {},
   "outputs": [],
   "source": []
  }
 ],
 "metadata": {
  "kernelspec": {
   "display_name": "Python 3 (ipykernel)",
   "language": "python",
   "name": "python3"
  },
  "language_info": {
   "codemirror_mode": {
    "name": "ipython",
    "version": 3
   },
   "file_extension": ".py",
   "mimetype": "text/x-python",
   "name": "python",
   "nbconvert_exporter": "python",
   "pygments_lexer": "ipython3",
   "version": "3.11.5"
  }
 },
 "nbformat": 4,
 "nbformat_minor": 5
}
