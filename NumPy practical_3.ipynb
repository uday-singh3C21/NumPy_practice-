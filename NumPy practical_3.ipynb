{
 "cells": [
  {
   "cell_type": "markdown",
   "id": "1eaa301e",
   "metadata": {},
   "source": [
    "# NumPy function\n"
   ]
  },
  {
   "cell_type": "code",
   "execution_count": 1,
   "id": "b946ad50",
   "metadata": {},
   "outputs": [],
   "source": [
    "import numpy as np\n"
   ]
  },
  {
   "cell_type": "markdown",
   "id": "256cb289",
   "metadata": {},
   "source": [
    "# arange()"
   ]
  },
  {
   "cell_type": "code",
   "execution_count": 3,
   "id": "5de6dda4",
   "metadata": {},
   "outputs": [
    {
     "name": "stdout",
     "output_type": "stream",
     "text": [
      "[ 1  2  3  4  5  6  7  8  9 10 11 12]\n"
     ]
    }
   ],
   "source": [
    "#np.arange(star,ends,steps)\n",
    "ar_1d=np.arange(1,13)\n",
    "print(ar_1d)"
   ]
  },
  {
   "cell_type": "code",
   "execution_count": 6,
   "id": "21415e8e",
   "metadata": {},
   "outputs": [
    {
     "name": "stdout",
     "output_type": "stream",
     "text": [
      "[ 0  2  4  6  8 10 12]\n"
     ]
    }
   ],
   "source": [
    "even_1d=np.arange(0,13,2)\n",
    "print(even_1d)"
   ]
  },
  {
   "cell_type": "markdown",
   "id": "65bd755e",
   "metadata": {},
   "source": [
    "# Linespace()"
   ]
  },
  {
   "cell_type": "code",
   "execution_count": 9,
   "id": "20c72ae4",
   "metadata": {},
   "outputs": [
    {
     "name": "stdout",
     "output_type": "stream",
     "text": [
      "[1.  3.5 6. ]\n"
     ]
    }
   ],
   "source": [
    "#line_1d=np.linspace(start,end,hw any between balues you required)\n",
    "line_1d=np.linspace(1,6,3)\n",
    "print(line_1d)"
   ]
  },
  {
   "cell_type": "markdown",
   "id": "c648376e",
   "metadata": {},
   "source": [
    "# reshape()"
   ]
  },
  {
   "cell_type": "code",
   "execution_count": 10,
   "id": "27af9b22",
   "metadata": {},
   "outputs": [
    {
     "name": "stdout",
     "output_type": "stream",
     "text": [
      "[[ 1  2  3  4  5  6]\n",
      " [ 7  8  9 10 11 12]]\n"
     ]
    }
   ],
   "source": [
    "ar_2d=ar_1d.reshape(2,6)\n",
    "print(ar_2d)"
   ]
  },
  {
   "cell_type": "code",
   "execution_count": 12,
   "id": "ef45878d",
   "metadata": {},
   "outputs": [
    {
     "name": "stdout",
     "output_type": "stream",
     "text": [
      "[[[ 1  2]\n",
      "  [ 3  4]\n",
      "  [ 5  6]]\n",
      "\n",
      " [[ 7  8]\n",
      "  [ 9 10]\n",
      "  [11 12]]]\n"
     ]
    }
   ],
   "source": [
    "ar_3d=ar_1d.reshape(2,3,2)\n",
    "print(ar_3d)"
   ]
  },
  {
   "cell_type": "markdown",
   "id": "7c7ac8eb",
   "metadata": {},
   "source": [
    "# ravel()"
   ]
  },
  {
   "cell_type": "code",
   "execution_count": 13,
   "id": "88bcd216",
   "metadata": {},
   "outputs": [
    {
     "data": {
      "text/plain": [
       "array([ 1,  2,  3,  4,  5,  6,  7,  8,  9, 10, 11, 12])"
      ]
     },
     "execution_count": 13,
     "metadata": {},
     "output_type": "execute_result"
    }
   ],
   "source": [
    "#convert multi di array in 1d\n",
    "ar_3d.ravel()"
   ]
  },
  {
   "cell_type": "markdown",
   "id": "5695c8db",
   "metadata": {},
   "source": [
    "# flatten()"
   ]
  },
  {
   "cell_type": "code",
   "execution_count": 14,
   "id": "bdd323b7",
   "metadata": {},
   "outputs": [],
   "source": [
    "# ravel function and flatter function give similar output that turns multi into 1d array"
   ]
  },
  {
   "cell_type": "markdown",
   "id": "679aebbf",
   "metadata": {},
   "source": [
    "# transpose()\n"
   ]
  },
  {
   "cell_type": "code",
   "execution_count": 15,
   "id": "2ea7c46b",
   "metadata": {},
   "outputs": [
    {
     "name": "stdout",
     "output_type": "stream",
     "text": [
      "[[1 2]\n",
      " [3 4]]\n"
     ]
    }
   ],
   "source": [
    "# help us to convert rows in colou and colums in rows\n",
    "ar_d=np.array([[1,2],[3,4]])\n",
    "print(ar_d)"
   ]
  },
  {
   "cell_type": "code",
   "execution_count": 16,
   "id": "08146e40",
   "metadata": {},
   "outputs": [
    {
     "data": {
      "text/plain": [
       "array([[1, 3],\n",
       "       [2, 4]])"
      ]
     },
     "execution_count": 16,
     "metadata": {},
     "output_type": "execute_result"
    }
   ],
   "source": [
    "ar_d.transpose()"
   ]
  },
  {
   "cell_type": "code",
   "execution_count": 18,
   "id": "b28f3f94",
   "metadata": {},
   "outputs": [
    {
     "data": {
      "text/plain": [
       "array([[1, 3],\n",
       "       [2, 4]])"
      ]
     },
     "execution_count": 18,
     "metadata": {},
     "output_type": "execute_result"
    }
   ],
   "source": [
    "ar_d.T \n",
    "#can also use capital T to transpose the array"
   ]
  },
  {
   "cell_type": "code",
   "execution_count": null,
   "id": "98fe6293",
   "metadata": {},
   "outputs": [],
   "source": []
  }
 ],
 "metadata": {
  "kernelspec": {
   "display_name": "Python 3 (ipykernel)",
   "language": "python",
   "name": "python3"
  },
  "language_info": {
   "codemirror_mode": {
    "name": "ipython",
    "version": 3
   },
   "file_extension": ".py",
   "mimetype": "text/x-python",
   "name": "python",
   "nbconvert_exporter": "python",
   "pygments_lexer": "ipython3",
   "version": "3.11.5"
  }
 },
 "nbformat": 4,
 "nbformat_minor": 5
}
